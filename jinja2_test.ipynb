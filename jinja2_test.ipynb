{
 "cells": [
  {
   "cell_type": "code",
   "execution_count": 4,
   "metadata": {},
   "outputs": [],
   "source": [
    "from jinja2 import Template"
   ]
  },
  {
   "cell_type": "code",
   "execution_count": 5,
   "metadata": {},
   "outputs": [],
   "source": [
    "template = \"\"\"\n",
    "hostname {{ hostname }}\n",
    "no ip domain lookup\n",
    "ip domain name local.lab\n",
    "ip name-server {{ name_server_pri }}\n",
    "ip name-server {{ name_server_sec }}\n",
    "\n",
    "ntp server {{ ntp_server_pri }} prefer\n",
    "ntp server {{ ntp_server_sec }}\n",
    "\"\"\""
   ]
  },
  {
   "cell_type": "code",
   "execution_count": 6,
   "metadata": {},
   "outputs": [
    {
     "data": {
      "text/plain": [
       "str"
      ]
     },
     "execution_count": 6,
     "metadata": {},
     "output_type": "execute_result"
    }
   ],
   "source": [
    "type(template)"
   ]
  },
  {
   "cell_type": "code",
   "execution_count": 7,
   "metadata": {},
   "outputs": [],
   "source": [
    "data = {\n",
    "    \"hostname\": \"core-sw-waw-01\",\n",
    "    \"name_server_pri\": \"1.1.1.1\",\n",
    "    \"name_server_sec\": \"8.8.8.8\",\n",
    "    \"ntp_server_pri\": \"0.pool.ntp.org\",\n",
    "    \"ntp_server_sec\": \"1.pool.ntp.org\",\n",
    "}"
   ]
  },
  {
   "cell_type": "code",
   "execution_count": 8,
   "metadata": {},
   "outputs": [
    {
     "data": {
      "text/plain": [
       "dict"
      ]
     },
     "execution_count": 8,
     "metadata": {},
     "output_type": "execute_result"
    }
   ],
   "source": [
    "type(data)"
   ]
  },
  {
   "cell_type": "code",
   "execution_count": 9,
   "metadata": {},
   "outputs": [],
   "source": [
    "j2_template = Template(template)"
   ]
  },
  {
   "cell_type": "code",
   "execution_count": 10,
   "metadata": {},
   "outputs": [
    {
     "data": {
      "text/plain": [
       "jinja2.environment.Template"
      ]
     },
     "execution_count": 10,
     "metadata": {},
     "output_type": "execute_result"
    }
   ],
   "source": [
    "type(j2_template)"
   ]
  },
  {
   "cell_type": "code",
   "execution_count": 11,
   "metadata": {},
   "outputs": [
    {
     "data": {
      "text/plain": [
       "<Template memory:117393130>"
      ]
     },
     "execution_count": 11,
     "metadata": {},
     "output_type": "execute_result"
    }
   ],
   "source": [
    "j2_template"
   ]
  },
  {
   "cell_type": "code",
   "execution_count": 12,
   "metadata": {},
   "outputs": [
    {
     "name": "stdout",
     "output_type": "stream",
     "text": [
      "\n",
      "hostname core-sw-waw-01\n",
      "no ip domain lookup\n",
      "ip domain name local.lab\n",
      "ip name-server 1.1.1.1\n",
      "ip name-server 8.8.8.8\n",
      "\n",
      "ntp server 0.pool.ntp.org prefer\n",
      "ntp server 1.pool.ntp.org\n"
     ]
    }
   ],
   "source": [
    "print(j2_template.render(data))"
   ]
  },
  {
   "cell_type": "code",
   "execution_count": 13,
   "metadata": {},
   "outputs": [
    {
     "name": "stdout",
     "output_type": "stream",
     "text": [
      "hostname core-sw-waw-01\n",
      "\n",
      "no ip domain lookup\n",
      "ip domain name local.lab\n",
      "ip name-server 1.1.1.1\n",
      "ip name-server 8.8.8.8\n",
      "\n",
      "ntp server 0.pool.ntp.org prefer\n",
      "ntp server 1.pool.ntp.org\n",
      "ntp server \n"
     ]
    }
   ],
   "source": [
    "from jinja2 import Template\n",
    "\n",
    "template = \"\"\"hostname {{ hostname }}\n",
    "\n",
    "{# DNS configuration -#}\n",
    "no ip domain lookup\n",
    "ip domain name local.lab\n",
    "ip name-server {{ name_server_pri }}\n",
    "ip name-server {{ name_server_sec }}\n",
    "\n",
    "{# Time servers config, we should use pool.ntp.org -#}\n",
    "ntp server {{ ntp_server_pri }} prefer\n",
    "ntp server {{ ntp_server_sec }}\n",
    "ntp server {{ ntp_server_trd }}\"\"\"\n",
    "\n",
    "data = {\n",
    "    \"hostname\": \"core-sw-waw-01\",\n",
    "    \"name_server_pri\": \"1.1.1.1\",\n",
    "    \"name_server_sec\": \"8.8.8.8\",\n",
    "    \"ntp_server_pri\": \"0.pool.ntp.org\",\n",
    "    \"ntp_server_sec\": \"1.pool.ntp.org\",\n",
    "}\n",
    "\n",
    "j2_template = Template(template)\n",
    "\n",
    "print(j2_template.render(data))"
   ]
  },
  {
   "cell_type": "code",
   "execution_count": null,
   "metadata": {},
   "outputs": [],
   "source": []
  }
 ],
 "metadata": {
  "kernelspec": {
   "display_name": "Python 3",
   "language": "python",
   "name": "python3"
  },
  "language_info": {
   "codemirror_mode": {
    "name": "ipython",
    "version": 3
   },
   "file_extension": ".py",
   "mimetype": "text/x-python",
   "name": "python",
   "nbconvert_exporter": "python",
   "pygments_lexer": "ipython3",
   "version": "3.8.5"
  }
 },
 "nbformat": 4,
 "nbformat_minor": 4
}
